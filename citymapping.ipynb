{
 "cells": [
  {
   "cell_type": "code",
   "execution_count": 47,
   "metadata": {},
   "outputs": [],
   "source": [
    "import pandas as pd\n",
    "import pickle\n",
    "from sklearn.preprocessing import MinMaxScaler\n",
    "\n",
    "datapath  = 'Data/DataSet.xlsx'\n",
    "\n",
    "df = pd.read_excel(datapath, sheet_name='FF')"
   ]
  },
  {
   "cell_type": "code",
   "execution_count": 48,
   "metadata": {},
   "outputs": [],
   "source": [
    "df['CITY'] = df['CITY'].str.lower()\n",
    "df['CITY'] = df['CITY'].str.strip()\n",
    "df['CITY'] = df['CITY'].replace('kathmandhu', 'kathmandu')\n",
    "df['CITY'] = df['CITY'].replace('sitapaila', 'kathmandu')\n"
   ]
  },
  {
   "cell_type": "code",
   "execution_count": 49,
   "metadata": {},
   "outputs": [
    {
     "name": "stdout",
     "output_type": "stream",
     "text": [
      "Number of rows dropped for price outlier: 156\n"
     ]
    }
   ],
   "source": [
    "# Calculate number of rows before dropping\n",
    "num_rows_before = df.shape[0]\n",
    "\n",
    "# Remove null values\n",
    "df = df.dropna(subset=['PRICE_N'])\n",
    "\n",
    "# Calculate IQR\n",
    "Q1 = df['PRICE_N'].quantile(0.25)\n",
    "Q3 = df['PRICE_N'].quantile(0.75)\n",
    "IQR = Q3 - Q1\n",
    "\n",
    "# Define outliers as values below Q1-1.5*IQR or above Q3+1.5*IQR\n",
    "outliers = df[(df['PRICE_N'] < (Q1 - 1.5 * IQR)) | (df['PRICE_N'] > (Q3 + 1.5 * IQR))].index\n",
    "\n",
    "# Drop the outliers\n",
    "df = df.drop(outliers)\n",
    "\n",
    "# Calculate number of rows after dropping\n",
    "num_rows_after = df.shape[0]\n",
    "\n",
    "# Calculate and print number of rows dropped\n",
    "num_rows_dropped = num_rows_before - num_rows_after\n",
    "print(f\"Number of rows dropped for price outlier: {num_rows_dropped}\")"
   ]
  },
  {
   "cell_type": "code",
   "execution_count": 50,
   "metadata": {},
   "outputs": [
    {
     "name": "stdout",
     "output_type": "stream",
     "text": [
      "Number of rows dropped for undefined cities: 2\n",
      "['lalitpur' 'kathmandu' 'bhaktapur' 'rupandehi' 'kaski' 'dhading'\n",
      " 'chitwan' 'nuwakot' 'banke' 'sunsari' 'kavrepalanchok' 'jhapa' 'dang']\n"
     ]
    }
   ],
   "source": [
    "# Calculate number of rows before dropping\n",
    "num_rows_before = df.shape[0]\n",
    "\n",
    "# Drop rows where 'CITY' is 'undefined'\n",
    "df = df[df['CITY'] != 'undefined']\n",
    "\n",
    "# Calculate number of rows after dropping\n",
    "num_rows_after = df.shape[0]\n",
    "\n",
    "# Calculate and print number of rows dropped\n",
    "num_rows_dropped = num_rows_before - num_rows_after\n",
    "print(f\"Number of rows dropped for undefined cities: {num_rows_dropped}\")\n",
    "\n",
    "unique_cities = df['CITY'].unique()\n",
    "print(unique_cities)"
   ]
  },
  {
   "cell_type": "code",
   "execution_count": 51,
   "metadata": {},
   "outputs": [
    {
     "name": "stdout",
     "output_type": "stream",
     "text": [
      "Number of rows with 'sunsari': 1\n"
     ]
    }
   ],
   "source": [
    "num_sunsari = df['CITY'].value_counts()['sunsari']\n",
    "print(f\"Number of rows with 'sunsari': {num_sunsari}\")\n",
    "# Identify the rows to drop\n",
    "rows_to_drop = df[~df['CITY'].isin(['kathmandu', 'lalitpur', 'bhaktapur'])].index\n",
    "\n",
    "# Drop the rows\n",
    "df = df.drop(rows_to_drop)"
   ]
  },
  {
   "cell_type": "code",
   "execution_count": 52,
   "metadata": {},
   "outputs": [
    {
     "name": "stdout",
     "output_type": "stream",
     "text": [
      "CITY\n",
      "kathmandu    1304\n",
      "lalitpur      695\n",
      "bhaktapur      42\n",
      "Name: count, dtype: int64\n"
     ]
    }
   ],
   "source": [
    "# Count the number of rows with each unique city\n",
    "city_counts = df['CITY'].value_counts()\n",
    "\n",
    "# Print the city counts\n",
    "print(city_counts)"
   ]
  },
  {
   "cell_type": "code",
   "execution_count": 53,
   "metadata": {},
   "outputs": [
    {
     "name": "stdout",
     "output_type": "stream",
     "text": [
      "{'bhaktapur': 0.0, 'kathmandu': 1.0, 'lalitpur': 0.22309048700191525}\n"
     ]
    }
   ],
   "source": [
    "# Create a new column with the mean price for each city\n",
    "mean_prices = df.groupby('CITY')['PRICE_N'].mean()\n",
    "\n",
    "# Create a MinMaxScaler\n",
    "scaler = MinMaxScaler()\n",
    "\n",
    "# Fit the scaler to the mean prices and transform the mean prices\n",
    "normalized_prices = scaler.fit_transform(mean_prices.values.reshape(-1, 1))\n",
    "\n",
    "# Create a mapping from city to normalized mean price\n",
    "mapping = dict(zip(mean_prices.index, normalized_prices.flatten()))\n",
    "\n",
    "# Apply the mapping to the 'CITY' column\n",
    "df['CITY'] = df['CITY'].map(mapping)\n",
    "\n",
    "# Print the mapping\n",
    "print(mapping)\n",
    "\n",
    "# Save the mapping to a pickle file\n",
    "with open('city_mapping.pkl', 'wb') as f:\n",
    "    pickle.dump(mapping, f)"
   ]
  }
 ],
 "metadata": {
  "kernelspec": {
   "display_name": "hpp",
   "language": "python",
   "name": "python3"
  },
  "language_info": {
   "codemirror_mode": {
    "name": "ipython",
    "version": 3
   },
   "file_extension": ".py",
   "mimetype": "text/x-python",
   "name": "python",
   "nbconvert_exporter": "python",
   "pygments_lexer": "ipython3",
   "version": "3.11.5"
  }
 },
 "nbformat": 4,
 "nbformat_minor": 2
}
